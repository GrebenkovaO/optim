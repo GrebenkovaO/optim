{
 "cells": [
  {
   "cell_type": "code",
   "execution_count": 8,
   "metadata": {},
   "outputs": [
    {
     "name": "stdout",
     "output_type": "stream",
     "text": [
      "Loss: 0.691\n",
      "Loss: 0.487\n",
      "Loss: 0.270\n",
      "Loss: 0.175\n",
      "Loss: 0.162\n",
      "Accuracy: 0.940\n"
     ]
    }
   ],
   "source": [
    "import numpy as np\n",
    "from sklearn.utils import shuffle\n",
    "\n",
    "\n",
    "# Data comes from y = f(x) = [2, 3].x + [5, 7]\n",
    "X0 = np.random.randn(100, 2) - 1\n",
    "X1 = np.random.randn(100, 2) + 1\n",
    "X = np.vstack([X0, X1])\n",
    "t = np.vstack([np.zeros([100, 1]), np.ones([100, 1])])\n",
    "\n",
    "X, t = shuffle(X, t)\n",
    "\n",
    "X_train, X_test = X[:150], X[150:]\n",
    "t_train, t_test = t[:150], t[150:]\n",
    "\n",
    "# Model\n",
    "W = np.random.randn(2, 1) * 0.01\n",
    "\n",
    "\n",
    "def sigm(x):\n",
    "    return 1/(1+np.exp(-x))\n",
    "\n",
    "\n",
    "def NLL(y, t):\n",
    "    return -np.mean(t*np.log(y) + (1-t)*np.log(1-y))\n",
    "\n",
    "\n",
    "alpha = 0.1\n",
    "\n",
    "# Training\n",
    "for it in range(5):\n",
    "    # Forward\n",
    "    z = X_train @ W\n",
    "    y = sigm(z)\n",
    "    loss = NLL(y, t_train)\n",
    "\n",
    "    # Loss\n",
    "    print(f'Loss: {loss:.3f}')\n",
    "\n",
    "    m = y.shape[0]\n",
    "\n",
    "    dy = (y-t_train)/(m * (y - y*y))\n",
    "    dz = sigm(z)*(1-sigm(z))\n",
    "    dW = X_train.T @ (dz * dy)\n",
    "\n",
    "    grad_loglik_z = (t_train-y)/(y - y*y) * dz\n",
    "    grad_loglik_W = grad_loglik_z * X_train\n",
    "    F = np.cov(grad_loglik_W.T)\n",
    "\n",
    "    # Step\n",
    "    W = W - alpha * np.linalg.inv(F) @ dW\n",
    "    # W = W - alpha * dW\n",
    "\n",
    "# print(W)\n",
    "\n",
    "y = sigm(X_test @ W).ravel()\n",
    "acc = np.mean((y >= 0.5) == t_test.ravel())\n",
    "\n",
    "print(f'Accuracy: {acc:.3f}')"
   ]
  }
 ],
 "metadata": {
  "kernelspec": {
   "display_name": "Python 3",
   "language": "python",
   "name": "python3"
  },
  "language_info": {
   "codemirror_mode": {
    "name": "ipython",
    "version": 3
   },
   "file_extension": ".py",
   "mimetype": "text/x-python",
   "name": "python",
   "nbconvert_exporter": "python",
   "pygments_lexer": "ipython3",
   "version": "3.7.4"
  },
  "toc": {
   "base_numbering": 1,
   "nav_menu": {},
   "number_sections": true,
   "sideBar": true,
   "skip_h1_title": false,
   "title_cell": "Table of Contents",
   "title_sidebar": "Contents",
   "toc_cell": false,
   "toc_position": {},
   "toc_section_display": true,
   "toc_window_display": false
  }
 },
 "nbformat": 4,
 "nbformat_minor": 2
}
